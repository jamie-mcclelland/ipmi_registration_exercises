{
  "nbformat": 4,
  "nbformat_minor": 0,
  "metadata": {
    "kernelspec": {
      "display_name": "Python 2",
      "language": "python",
      "name": "python2"
    },
    "language_info": {
      "codemirror_mode": {
        "name": "ipython",
        "version": 2
      },
      "file_extension": ".py",
      "mimetype": "text/x-python",
      "name": "python",
      "nbconvert_exporter": "python",
      "pygments_lexer": "ipython2",
      "version": "2.7.15"
    },
    "colab": {
      "name": "registration_workshop_1.ipynb",
      "provenance": [],
      "toc_visible": true
    }
  },
  "cells": [
    {
      "cell_type": "markdown",
      "metadata": {
        "id": "Nlqh43vPEMND",
        "colab_type": "text"
      },
      "source": [
        "# Registration workshop 1\n",
        "## 16th January 2020\n",
        "### Python version\n",
        "\n",
        "Required packages: `scikit-image` , `scipy`($\\geqslant$0.14), `numpy`, `matplotlib` if you'd like to run this notebook or the `utils.py` functions locally. \n",
        "\n",
        "First we will set up colab so that the data and `utils.py` script can be loaded. If you are not running this notebook through Colab you can comment out this first block."
      ]
    },
    {
      "cell_type": "code",
      "metadata": {
        "id": "RB92qhA-EMNE",
        "colab_type": "code",
        "colab": {
          "base_uri": "https://localhost:8080/",
          "height": 123
        },
        "outputId": "be9d93ee-51c3-43eb-e208-8e078e5ca8f9"
      },
      "source": [
        "!git clone https://github.com/jamie-mcclelland/ipmi_registration_exercises\n",
        "import os\n",
        "os.chdir('ipmi_registration_exercises/exercises_1/python')"
      ],
      "execution_count": 3,
      "outputs": [
        {
          "output_type": "stream",
          "text": [
            "Cloning into 'ipmi_registration_exercises'...\n",
            "remote: Enumerating objects: 22, done.\u001b[K\n",
            "remote: Counting objects:   4% (1/22)\u001b[K\rremote: Counting objects:   9% (2/22)\u001b[K\rremote: Counting objects:  13% (3/22)\u001b[K\rremote: Counting objects:  18% (4/22)\u001b[K\rremote: Counting objects:  22% (5/22)\u001b[K\rremote: Counting objects:  27% (6/22)\u001b[K\rremote: Counting objects:  31% (7/22)\u001b[K\rremote: Counting objects:  36% (8/22)\u001b[K\rremote: Counting objects:  40% (9/22)\u001b[K\rremote: Counting objects:  45% (10/22)\u001b[K\rremote: Counting objects:  50% (11/22)\u001b[K\rremote: Counting objects:  54% (12/22)\u001b[K\rremote: Counting objects:  59% (13/22)\u001b[K\rremote: Counting objects:  63% (14/22)\u001b[K\rremote: Counting objects:  68% (15/22)\u001b[K\rremote: Counting objects:  72% (16/22)\u001b[K\rremote: Counting objects:  77% (17/22)\u001b[K\rremote: Counting objects:  81% (18/22)\u001b[K\rremote: Counting objects:  86% (19/22)\u001b[K\rremote: Counting objects:  90% (20/22)\u001b[K\rremote: Counting objects:  95% (21/22)\u001b[K\rremote: Counting objects: 100% (22/22)\u001b[K\rremote: Counting objects: 100% (22/22), done.\u001b[K\n",
            "remote: Compressing objects:   6% (1/15)\u001b[K\rremote: Compressing objects:  13% (2/15)\u001b[K\rremote: Compressing objects:  20% (3/15)\u001b[K\rremote: Compressing objects:  26% (4/15)\u001b[K\rremote: Compressing objects:  33% (5/15)\u001b[K\rremote: Compressing objects:  40% (6/15)\u001b[K\rremote: Compressing objects:  46% (7/15)\u001b[K\rremote: Compressing objects:  53% (8/15)\u001b[K\rremote: Compressing objects:  60% (9/15)\u001b[K\rremote: Compressing objects:  66% (10/15)\u001b[K\rremote: Compressing objects:  73% (11/15)\u001b[K\rremote: Compressing objects:  80% (12/15)\u001b[K\rremote: Compressing objects:  86% (13/15)\u001b[K\rremote: Compressing objects:  93% (14/15)\u001b[K\rremote: Compressing objects: 100% (15/15)\u001b[K\rremote: Compressing objects: 100% (15/15), done.\u001b[K\n",
            "Unpacking objects:   4% (1/22)   \rUnpacking objects:   9% (2/22)   \rUnpacking objects:  13% (3/22)   \rUnpacking objects:  18% (4/22)   \rUnpacking objects:  22% (5/22)   \rUnpacking objects:  27% (6/22)   \rUnpacking objects:  31% (7/22)   \rUnpacking objects:  36% (8/22)   \rUnpacking objects:  40% (9/22)   \rUnpacking objects:  45% (10/22)   \rUnpacking objects:  50% (11/22)   \rUnpacking objects:  54% (12/22)   \rUnpacking objects:  59% (13/22)   \rUnpacking objects:  63% (14/22)   \rUnpacking objects:  68% (15/22)   \rUnpacking objects:  72% (16/22)   \rUnpacking objects:  77% (17/22)   \rUnpacking objects:  81% (18/22)   \rremote: Total 22 (delta 5), reused 19 (delta 5), pack-reused 0\u001b[K\n",
            "Unpacking objects:  86% (19/22)   \rUnpacking objects:  90% (20/22)   \rUnpacking objects:  95% (21/22)   \rUnpacking objects: 100% (22/22)   \rUnpacking objects: 100% (22/22), done.\n"
          ],
          "name": "stdout"
        }
      ]
    },
    {
      "cell_type": "markdown",
      "metadata": {
        "id": "veR4JbBPEMNH",
        "colab_type": "text"
      },
      "source": [
        "### Loading images\n",
        "Frist load the 2D lung MRI stored in lung_MRI_slice.png using the python library: `scikit-image`. The image will be stored as a `numpy` array object. `numpy` is a fundamental package for scientific computing in Python."
      ]
    },
    {
      "cell_type": "code",
      "metadata": {
        "id": "O69GM6L8EMNI",
        "colab_type": "code",
        "colab": {}
      },
      "source": [
        "import skimage.io\n",
        "img = skimage.io.imread('../lung_MRI_slice.png')"
      ],
      "execution_count": 0,
      "outputs": []
    },
    {
      "cell_type": "markdown",
      "metadata": {
        "id": "gfZfMfj5EMNL",
        "colab_type": "text"
      },
      "source": [
        "The image is stored as unsigned 8-bit integers:"
      ]
    },
    {
      "cell_type": "code",
      "metadata": {
        "id": "r62t6POwEMNM",
        "colab_type": "code",
        "colab": {
          "base_uri": "https://localhost:8080/",
          "height": 35
        },
        "outputId": "c383cc37-df7a-4814-b8aa-a6a5945c98ea"
      },
      "source": [
        "print(img.dtype)"
      ],
      "execution_count": 5,
      "outputs": [
        {
          "output_type": "stream",
          "text": [
            "uint8\n"
          ],
          "name": "stdout"
        }
      ]
    },
    {
      "cell_type": "markdown",
      "metadata": {
        "id": "9wr9jng3EMNP",
        "colab_type": "text"
      },
      "source": [
        "You should convert `img` to double precision so that errors do not occur when processing the image due to the limited precision. "
      ]
    },
    {
      "cell_type": "code",
      "metadata": {
        "id": "iSj0hptfEMNP",
        "colab_type": "code",
        "colab": {}
      },
      "source": [
        "import numpy as np\n",
        "# convert img to double"
      ],
      "execution_count": 0,
      "outputs": []
    },
    {
      "cell_type": "markdown",
      "metadata": {
        "id": "1Y4jZiJgEMNR",
        "colab_type": "text"
      },
      "source": [
        "Numpy arrays used 'matrix' coordinates - the first cooridnate is the row number (i.e. the y coordinate) and the second is the column number (i.e. the x coordinate). The rows are also numbered from top to bottom.\n",
        "We need to reoritentate the image - from (y-axis 1st dim, 0 at top) to\n",
        "'standard orientation' (y-axis 2nd dim, 0 at bottom) - so that it can be dispalyed \n",
        "using the `dispImage` function with the origin in the lower left.\n",
        "\n",
        "When the image is read in using `scikit-image`'s `imread` function it is initially stored in ‘ij’ coordinates – therefore, before proceeding it is necessary to re-orientate it into ‘standard orientation’. This can be done by first flipping along the second dimension (moving the first pixel from the top to the bottom of the image) and taking the transpose of the matrix (switching x and y dimensions). We can do this easily using 2 handy functions from `numpy`:"
      ]
    },
    {
      "cell_type": "code",
      "metadata": {
        "id": "PxjMA4cNEMNS",
        "colab_type": "code",
        "colab": {}
      },
      "source": [
        "img = np.flipud(img)\n",
        "img = img.T"
      ],
      "execution_count": 0,
      "outputs": []
    },
    {
      "cell_type": "markdown",
      "metadata": {
        "id": "9P2QOJTZEMNU",
        "colab_type": "text"
      },
      "source": [
        "Now view the image using the `dispImage` function from `utils.py` which should be in the same folder as this notebook. "
      ]
    },
    {
      "cell_type": "code",
      "metadata": {
        "id": "_jm_sF2fEMNU",
        "colab_type": "code",
        "colab": {
          "base_uri": "https://localhost:8080/",
          "height": 487
        },
        "outputId": "a23707cd-6c63-4aea-a80b-34dcdfba188f"
      },
      "source": [
        "from utils import dispImage\n",
        "dispImage(img)"
      ],
      "execution_count": 6,
      "outputs": [
        {
          "output_type": "display_data",
          "data": {
            "image/png": "[encoded data removed]",
            "text/plain": [
              "<Figure size 640x480 with 1 Axes>"
            ]
          },
          "metadata": {
            "tags": []
          }
        }
      ]
    },
    {
      "cell_type": "markdown",
      "metadata": {
        "id": "wusUQUlCEMNW",
        "colab_type": "text"
      },
      "source": [
        "Create an affine matrix representing a translation by 10 pixels in the `x` direction and 20 pixels in the `y` direction. You can declare this using `numpy` matrices:"
      ]
    },
    {
      "cell_type": "code",
      "metadata": {
        "id": "42tGxNLTEMNX",
        "colab_type": "code",
        "colab": {}
      },
      "source": [
        "T = np.matrix([[1, 0, 0],[0,1,0],[0,0,1]])\n",
        "print(T)"
      ],
      "execution_count": 0,
      "outputs": []
    },
    {
      "cell_type": "markdown",
      "metadata": {
        "id": "-rWM4-ddEMNZ",
        "colab_type": "text"
      },
      "source": [
        "Create a deformation field for the transformation using the provided `defFieldFromAffineMatrix` function, and then resample the image with the deformation field using the provided `resampImageWithDefField` function within `utils.py`. \n",
        "\n",
        "First, calculate the deformation field from the translation matrix."
      ]
    },
    {
      "cell_type": "code",
      "metadata": {
        "id": "7H57uuqxEMNZ",
        "colab_type": "code",
        "colab": {}
      },
      "source": [
        "from utils import defFieldFromAffineMatrix, resampImageWithDefField\n",
        "\n",
        "num_pix_x, num_pix_y = img.shape\n",
        "# calculate def_field here"
      ],
      "execution_count": 0,
      "outputs": []
    },
    {
      "cell_type": "markdown",
      "metadata": {
        "id": "QTlVQaPlEMNd",
        "colab_type": "text"
      },
      "source": [
        "Now resample and display the image. The function `resampImageWithDefField` uses linear interpolation by default; other supported methods for `scipy`'s `interpn` function are 'nearest' and 'splinef2d'.\n",
        "\n",
        "Does it appear as expected? Note, the `resampleImageWithDefField` function uses pull-interpolation, so the image will appear to have been transformed by the inverse of the transformation in the affine matrix. "
      ]
    },
    {
      "cell_type": "code",
      "metadata": {
        "id": "GceswEN3EMNe",
        "colab_type": "code",
        "colab": {}
      },
      "source": [
        "# calculate the resampled image and display it here"
      ],
      "execution_count": 0,
      "outputs": []
    },
    {
      "cell_type": "markdown",
      "metadata": {
        "id": "cOgccbUCEMNh",
        "colab_type": "text"
      },
      "source": [
        "Check what value has been assigned to pixels that were originally outside the image. This is known as the ‘padding value’ or ‘extrapolation value’. A value of NaN (not a number) is often used to indicate that the true value for these pixels is unknown, and therefore they should be ignored when calculating similarity measures during image registration."
      ]
    },
    {
      "cell_type": "code",
      "metadata": {
        "id": "OddrlJq9EMNh",
        "colab_type": "code",
        "colab": {}
      },
      "source": [
        "# print the value of the resampled image in the top right corner\n",
        "# e.g. print(img_resampled[-1,-1])"
      ],
      "execution_count": 0,
      "outputs": []
    },
    {
      "cell_type": "markdown",
      "metadata": {
        "id": "OkTbmVMfEMNj",
        "colab_type": "text"
      },
      "source": [
        "Resample the image again using nearest neighbour interpolation and spline interpolation and display the resulting images. Do the different interpolation methods give different results? It may be useful to use difference images (one minus the other) to assess this. "
      ]
    },
    {
      "cell_type": "code",
      "metadata": {
        "id": "kiCmzWOjEMNk",
        "colab_type": "code",
        "colab": {}
      },
      "source": [
        ""
      ],
      "execution_count": 0,
      "outputs": []
    },
    {
      "cell_type": "code",
      "metadata": {
        "id": "-FPgG4ssEMNm",
        "colab_type": "code",
        "colab": {}
      },
      "source": [
        ""
      ],
      "execution_count": 0,
      "outputs": []
    },
    {
      "cell_type": "code",
      "metadata": {
        "id": "02rwSAFeEMNo",
        "colab_type": "code",
        "colab": {}
      },
      "source": [
        ""
      ],
      "execution_count": 0,
      "outputs": []
    },
    {
      "cell_type": "markdown",
      "metadata": {
        "id": "8jPb8GaLEMNp",
        "colab_type": "text"
      },
      "source": [
        "What about if you now use a translation of **10.5** pixels in the x direction, and **20.5** pixels in the y direction?\n",
        "Make sure you understand why you get the results that you do (if you are not sure ask one of the lab assistants).\n",
        "\n",
        "Note – the transformed images may not have exactly the same intensity ranges as the original images due to interpolation and pixels moving outside of the image. This can cause unintentional differences in appearance if the images are displayed using their full intensity ranges (which is the default behaviour with the `dispImage` function). Therefore, it is often a good idea to ensure exactly the same intensity range is used when displaying and comparing different images (e.g. the intensity range of the original image). This can be done using the `int_lims` input to the dispImage function."
      ]
    },
    {
      "cell_type": "code",
      "metadata": {
        "id": "VH__Z3OhEMNq",
        "colab_type": "code",
        "colab": {}
      },
      "source": [
        ""
      ],
      "execution_count": 0,
      "outputs": []
    },
    {
      "cell_type": "code",
      "metadata": {
        "id": "muIK_XXqEMNt",
        "colab_type": "code",
        "colab": {}
      },
      "source": [
        ""
      ],
      "execution_count": 0,
      "outputs": []
    },
    {
      "cell_type": "code",
      "metadata": {
        "id": "k52sqJ_LEMNv",
        "colab_type": "code",
        "colab": {}
      },
      "source": [
        ""
      ],
      "execution_count": 0,
      "outputs": []
    },
    {
      "cell_type": "markdown",
      "metadata": {
        "id": "ldloM0HHEMNy",
        "colab_type": "text"
      },
      "source": [
        "Write a function that will calculate the affine matrix corresponding to a rotation about a point, P. The inputs to the function should be the angle of rotation (in degrees) and the coordinates of the point, i.e.:"
      ]
    },
    {
      "cell_type": "code",
      "metadata": {
        "id": "9vB4VxRTEMNz",
        "colab_type": "code",
        "colab": {}
      },
      "source": [
        "def affineMatrixForRotationAboutPoint(theta, p_coords):\n",
        "  \"\"\"\n",
        "  function to calculate the affine matrix corresponding to an anticlockwise\n",
        "  rotation about a point\n",
        "  \n",
        "  INPUTS:    theta: the angle of the rotation, specified in degrees\n",
        "             p_coords: the 2D coordinates of the point that is the centre of\n",
        "                 rotation. p_coords[0] is the x coordinate, p_coords[1] is\n",
        "                 the y coordinate\n",
        "  \n",
        "  OUTPUTS:   aff_mat: a 3 x 3 affine matrix\n",
        "  \"\"\"\n",
        "  return R"
      ],
      "execution_count": 0,
      "outputs": []
    },
    {
      "cell_type": "markdown",
      "metadata": {
        "id": "7UZqXQOHEMN2",
        "colab_type": "text"
      },
      "source": [
        "Use the above function to calculate the affine matrix for an anticlockwise rotation of 5 degrees about the centre of the image.\n",
        "\n",
        "Note – the image has an even number of pixels in each dimension, so the centre of the image will not be the centre of a pixel. The width and height of the image referred to in the lecture slides are the width and height from the centre of the first pixel to the centre of the last pixel, i.e. width = number of pixels in x – 1, height = number of pixels in y – 1."
      ]
    },
    {
      "cell_type": "markdown",
      "metadata": {
        "id": "Abr2LW-tEMN4",
        "colab_type": "text"
      },
      "source": [
        "Create a deformation field from the affine matrix above and use it to resample the image using linear interpolation. Now apply the same transformation to the transformed image and display the result. Repeat this 72 times so that the image will appear to rotate a full 360 degrees.\n",
        "Display the results at periodic intervals using the `dispImg` function or create your own `matplotlib.pyplot`.  \n",
        "What do you notice? "
      ]
    },
    {
      "cell_type": "code",
      "metadata": {
        "id": "dIoa4PpHEMN5",
        "colab_type": "code",
        "colab": {}
      },
      "source": [
        ""
      ],
      "execution_count": 0,
      "outputs": []
    },
    {
      "cell_type": "markdown",
      "metadata": {
        "id": "J-YwgrJfEMN7",
        "colab_type": "text"
      },
      "source": [
        "You will notice that the image gets smaller and smaller as it rotates. This is because of the NaN padding values – when a pixel value is interpolated from one or more NaN values it also gets set to NaN, so the pixels at the edge of the image keep getting set to NaN, and the image gets smaller after each rotation. \n",
        "\n",
        "To prevent this replace the NaN values in the transformed image with 0s before applying the next rotation (this is effectively using a padding value of 0 rather than NaN). YOu can do this using the `numpy` `isnan()` function."
      ]
    },
    {
      "cell_type": "code",
      "metadata": {
        "id": "Hw8w3oJiEMN7",
        "colab_type": "code",
        "colab": {}
      },
      "source": [
        ""
      ],
      "execution_count": 0,
      "outputs": []
    },
    {
      "cell_type": "markdown",
      "metadata": {
        "id": "TYyE8lTcEMN_",
        "colab_type": "text"
      },
      "source": [
        "You will notice that the corners of the image still get ‘rounded off’ as it rotates so that it has become a circle after rotating 90 degrees. Do you understand why this happens?\n",
        "\n",
        "Now repeat the above using nearest neighbour and spline interpolation and compare the final results to the result obtained using linear interpolation.\n",
        "Now experiment with using different angles (both smaller and larger) and rotating about a different point.\n",
        "Make sure you understand all the results you get."
      ]
    },
    {
      "cell_type": "code",
      "metadata": {
        "id": "CZU-VNFlEMOA",
        "colab_type": "code",
        "colab": {}
      },
      "source": [
        ""
      ],
      "execution_count": 0,
      "outputs": []
    },
    {
      "cell_type": "code",
      "metadata": {
        "id": "GHjW0XsvEMOD",
        "colab_type": "code",
        "colab": {}
      },
      "source": [
        ""
      ],
      "execution_count": 0,
      "outputs": []
    },
    {
      "cell_type": "markdown",
      "metadata": {
        "id": "wH9Vtgc1EMOF",
        "colab_type": "text"
      },
      "source": [
        "The blurring artefacts and the ‘rounding off’ of the images seen above are caused by multiple re-samplings of the image. This can be prevented by composing the rotations and applying the resulting transformation to the original image instead of the transformed image. Use this approach to create animations of the rotating image as above, but which do not suffer from blurring artefacts or ‘rounding off’ of the images. Try this using nearest neighbour, linear, and spline interpolation."
      ]
    },
    {
      "cell_type": "code",
      "metadata": {
        "id": "uaN9NIqBEMOF",
        "colab_type": "code",
        "colab": {}
      },
      "source": [
        ""
      ],
      "execution_count": 0,
      "outputs": []
    },
    {
      "cell_type": "code",
      "metadata": {
        "id": "U_hKSyVQEMOH",
        "colab_type": "code",
        "colab": {}
      },
      "source": [
        ""
      ],
      "execution_count": 0,
      "outputs": []
    },
    {
      "cell_type": "markdown",
      "metadata": {
        "id": "NcoJl5j3EMOI",
        "colab_type": "text"
      },
      "source": [
        "As discussed in the lectures, it is possible to resample an image using push-interpolation, but it is far less computationally efficient than using pull-interpolation.\n",
        "\n",
        "Create an affine matrix representing a rotation by -30 degrees about the point 150,150, and use this to calculate the corresponding deformation field. Use the `resampImageWithDefFieldPushInterp` function to create the transformed image using push-interpolation. Is the result as expected?"
      ]
    },
    {
      "cell_type": "code",
      "metadata": {
        "id": "jS6r4jQDEMOJ",
        "colab_type": "code",
        "colab": {}
      },
      "source": [
        ""
      ],
      "execution_count": 0,
      "outputs": []
    },
    {
      "cell_type": "markdown",
      "metadata": {
        "id": "CNmnTDKoEMOK",
        "colab_type": "text"
      },
      "source": [
        "Now use pull-interpolation (i.e. the `resampImageWithDefField` function) to create the same result. Compare the results – you should notice that they appear very similar, but if you display a difference image between the results you will see some small differences."
      ]
    },
    {
      "cell_type": "code",
      "metadata": {
        "id": "1I2AprmBEMOL",
        "colab_type": "code",
        "colab": {}
      },
      "source": [
        ""
      ],
      "execution_count": 0,
      "outputs": []
    },
    {
      "cell_type": "code",
      "metadata": {
        "id": "raoq4TG_EMOQ",
        "colab_type": "code",
        "colab": {}
      },
      "source": [
        ""
      ],
      "execution_count": 0,
      "outputs": []
    },
    {
      "cell_type": "markdown",
      "metadata": {
        "id": "YwEsU_E0EMOS",
        "colab_type": "text"
      },
      "source": [
        "The main difference is in the computation time. Re-create the rotating image sequences above but using push-interpolation and you will notice the difference!"
      ]
    },
    {
      "cell_type": "code",
      "metadata": {
        "id": "OE5rF-2dEMOT",
        "colab_type": "code",
        "colab": {}
      },
      "source": [
        ""
      ],
      "execution_count": 0,
      "outputs": []
    },
    {
      "cell_type": "code",
      "metadata": {
        "id": "CPeti0ibEMOV",
        "colab_type": "code",
        "colab": {}
      },
      "source": [
        ""
      ],
      "execution_count": 0,
      "outputs": []
    }
  ]
}